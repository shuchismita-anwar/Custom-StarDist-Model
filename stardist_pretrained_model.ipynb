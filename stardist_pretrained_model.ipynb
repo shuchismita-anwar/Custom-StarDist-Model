{
 "cells": [
  {
   "cell_type": "code",
   "execution_count": 1,
   "metadata": {},
   "outputs": [],
   "source": [
    "import os\n",
    "import tifffile\n",
    "import matplotlib.pyplot as plt\n",
    "from stardist.models import StarDist2D\n",
    "from csbdeep.utils import normalize\n",
    "from stardist.plot import render_label"
   ]
  },
  {
   "cell_type": "code",
   "execution_count": 2,
   "metadata": {},
   "outputs": [],
   "source": [
    "input_dir = 'D:/stardist_segmentation/original'\n",
    "output_dir = 'D:/stardist_segmentation/segmentation_results_pretrained'"
   ]
  },
  {
   "cell_type": "code",
   "execution_count": 3,
   "metadata": {},
   "outputs": [
    {
     "name": "stdout",
     "output_type": "stream",
     "text": [
      "Found model '2D_versatile_fluo' for 'StarDist2D'.\n",
      "Loading network weights from 'weights_best.h5'.\n",
      "Loading thresholds from 'thresholds.json'.\n",
      "Using default values: prob_thresh=0.479071, nms_thresh=0.3.\n",
      "Saved segmentation for Muc1_Ecad_SPC_x20_2_XY10_00001_CH3.tif to D:/stardist_segmentation/segmentation_results_pretrained\\Muc1_Ecad_SPC_x20_2_XY10_00001_CH3_segmentation.png\n",
      "Saved segmentation for Muc1_Ecad_SPC_x20_2_XY10_00002_CH3.tif to D:/stardist_segmentation/segmentation_results_pretrained\\Muc1_Ecad_SPC_x20_2_XY10_00002_CH3_segmentation.png\n",
      "Saved segmentation for Muc1_Ecad_SPC_x20_2_XY10_00007_CH3.tif to D:/stardist_segmentation/segmentation_results_pretrained\\Muc1_Ecad_SPC_x20_2_XY10_00007_CH3_segmentation.png\n",
      "Saved segmentation for Muc1_Ecad_SPC_x20_2_XY10_00008_CH3.tif to D:/stardist_segmentation/segmentation_results_pretrained\\Muc1_Ecad_SPC_x20_2_XY10_00008_CH3_segmentation.png\n",
      "Saved segmentation for Muc1_Ecad_SPC_x20_2_XY10_00009_CH3.tif to D:/stardist_segmentation/segmentation_results_pretrained\\Muc1_Ecad_SPC_x20_2_XY10_00009_CH3_segmentation.png\n",
      "Saved segmentation for Muc1_Ecad_SPC_x20_2_XY10_00010_CH3.tif to D:/stardist_segmentation/segmentation_results_pretrained\\Muc1_Ecad_SPC_x20_2_XY10_00010_CH3_segmentation.png\n",
      "Saved segmentation for Muc1_Ecad_SPC_x20_2_XY10_00011_CH3.tif to D:/stardist_segmentation/segmentation_results_pretrained\\Muc1_Ecad_SPC_x20_2_XY10_00011_CH3_segmentation.png\n",
      "Saved segmentation for Muc1_Ecad_SPC_x20_2_XY10_00012_CH3.tif to D:/stardist_segmentation/segmentation_results_pretrained\\Muc1_Ecad_SPC_x20_2_XY10_00012_CH3_segmentation.png\n",
      "Saved segmentation for Muc1_Ecad_SPC_x20_2_XY10_00013_CH3.tif to D:/stardist_segmentation/segmentation_results_pretrained\\Muc1_Ecad_SPC_x20_2_XY10_00013_CH3_segmentation.png\n",
      "Saved segmentation for Muc1_Ecad_SPC_x20_2_XY10_00014_CH3.tif to D:/stardist_segmentation/segmentation_results_pretrained\\Muc1_Ecad_SPC_x20_2_XY10_00014_CH3_segmentation.png\n",
      "Saved segmentation for Muc1_Ecad_SPC_x20_2_XY10_00015_CH3.tif to D:/stardist_segmentation/segmentation_results_pretrained\\Muc1_Ecad_SPC_x20_2_XY10_00015_CH3_segmentation.png\n",
      "Saved segmentation for Muc1_Ecad_SPC_x20_2_XY10_00016_CH3.tif to D:/stardist_segmentation/segmentation_results_pretrained\\Muc1_Ecad_SPC_x20_2_XY10_00016_CH3_segmentation.png\n",
      "Saved segmentation for Muc1_Ecad_SPC_x20_2_XY10_00017_CH3.tif to D:/stardist_segmentation/segmentation_results_pretrained\\Muc1_Ecad_SPC_x20_2_XY10_00017_CH3_segmentation.png\n",
      "Saved segmentation for Muc1_Ecad_SPC_x20_2_XY10_00019_CH3.tif to D:/stardist_segmentation/segmentation_results_pretrained\\Muc1_Ecad_SPC_x20_2_XY10_00019_CH3_segmentation.png\n",
      "Saved segmentation for Muc1_Ecad_SPC_x20_2_XY10_00020_CH3.tif to D:/stardist_segmentation/segmentation_results_pretrained\\Muc1_Ecad_SPC_x20_2_XY10_00020_CH3_segmentation.png\n",
      "Saved segmentation for Muc1_Ecad_SPC_x20_2_XY10_00021_CH3.tif to D:/stardist_segmentation/segmentation_results_pretrained\\Muc1_Ecad_SPC_x20_2_XY10_00021_CH3_segmentation.png\n",
      "Saved segmentation for Muc1_Ecad_SPC_x20_2_XY10_00022_CH3.tif to D:/stardist_segmentation/segmentation_results_pretrained\\Muc1_Ecad_SPC_x20_2_XY10_00022_CH3_segmentation.png\n",
      "Saved segmentation for Muc1_Ecad_SPC_x20_2_XY10_00023_CH3.tif to D:/stardist_segmentation/segmentation_results_pretrained\\Muc1_Ecad_SPC_x20_2_XY10_00023_CH3_segmentation.png\n",
      "Saved segmentation for Muc1_Ecad_SPC_x20_2_XY10_00026_CH3.tif to D:/stardist_segmentation/segmentation_results_pretrained\\Muc1_Ecad_SPC_x20_2_XY10_00026_CH3_segmentation.png\n",
      "Saved segmentation for Muc1_Ecad_SPC_x20_2_XY10_00027_CH3.tif to D:/stardist_segmentation/segmentation_results_pretrained\\Muc1_Ecad_SPC_x20_2_XY10_00027_CH3_segmentation.png\n",
      "Saved segmentation for Muc1_Ecad_SPC_x20_2_XY10_00028_CH3.tif to D:/stardist_segmentation/segmentation_results_pretrained\\Muc1_Ecad_SPC_x20_2_XY10_00028_CH3_segmentation.png\n",
      "Saved segmentation for Muc1_Ecad_SPC_x20_2_XY10_00029_CH3.tif to D:/stardist_segmentation/segmentation_results_pretrained\\Muc1_Ecad_SPC_x20_2_XY10_00029_CH3_segmentation.png\n",
      "Saved segmentation for Muc1_Ecad_SPC_x20_2_XY10_00030_CH3.tif to D:/stardist_segmentation/segmentation_results_pretrained\\Muc1_Ecad_SPC_x20_2_XY10_00030_CH3_segmentation.png\n",
      "Saved segmentation for Muc1_Ecad_SPC_x20_2_XY10_00031_CH3.tif to D:/stardist_segmentation/segmentation_results_pretrained\\Muc1_Ecad_SPC_x20_2_XY10_00031_CH3_segmentation.png\n",
      "Saved segmentation for Muc1_Ecad_SPC_x20_2_XY10_00033_CH3.tif to D:/stardist_segmentation/segmentation_results_pretrained\\Muc1_Ecad_SPC_x20_2_XY10_00033_CH3_segmentation.png\n",
      "Saved segmentation for Muc1_Ecad_SPC_x20_2_XY10_00034_CH3.tif to D:/stardist_segmentation/segmentation_results_pretrained\\Muc1_Ecad_SPC_x20_2_XY10_00034_CH3_segmentation.png\n",
      "Saved segmentation for Muc1_Ecad_SPC_x20_2_XY10_00039_CH3.tif to D:/stardist_segmentation/segmentation_results_pretrained\\Muc1_Ecad_SPC_x20_2_XY10_00039_CH3_segmentation.png\n",
      "Saved segmentation for Muc1_Ecad_SPC_x20_2_XY10_00040_CH3.tif to D:/stardist_segmentation/segmentation_results_pretrained\\Muc1_Ecad_SPC_x20_2_XY10_00040_CH3_segmentation.png\n"
     ]
    }
   ],
   "source": [
    "# Ensure the output directory exists\n",
    "os.makedirs(output_dir, exist_ok=True)\n",
    "\n",
    "# Load the pretrained StarDist model\n",
    "model = StarDist2D.from_pretrained('2D_versatile_fluo')\n",
    "\n",
    "# Process each image in the directory\n",
    "for image_name in os.listdir(input_dir):\n",
    "    if image_name.endswith('.tif') or image_name.endswith('.tiff'):\n",
    "        image_path = os.path.join(input_dir, image_name)\n",
    "        img = tifffile.imread(image_path)\n",
    "\n",
    "        # Normalize the image\n",
    "        img_normalized = normalize(img, 1, 99.8, axis=(0, 1))\n",
    "\n",
    "        # Predict instances\n",
    "        labels, details = model.predict_instances(img_normalized)\n",
    "\n",
    "        # Save the results\n",
    "        plt.figure(figsize=(12, 6))\n",
    "\n",
    "        plt.subplot(1, 2, 1)\n",
    "        plt.imshow(img, cmap='gray')\n",
    "        plt.title('Input Image')\n",
    "        plt.axis('off')\n",
    "\n",
    "        plt.subplot(1, 2, 2)\n",
    "        plt.imshow(render_label(labels, img=img))\n",
    "        plt.title('Prediction + Input Overlay')\n",
    "        plt.axis('off')\n",
    "\n",
    "        plt.tight_layout()\n",
    "        output_path = os.path.join(output_dir, f'{os.path.splitext(image_name)[0]}_segmentation.png')\n",
    "        plt.savefig(output_path)\n",
    "        plt.close()\n",
    "\n",
    "        print(f'Saved segmentation for {image_name} to {output_path}')"
   ]
  }
 ],
 "metadata": {
  "kernelspec": {
   "display_name": "stardist",
   "language": "python",
   "name": "python3"
  },
  "language_info": {
   "codemirror_mode": {
    "name": "ipython",
    "version": 3
   },
   "file_extension": ".py",
   "mimetype": "text/x-python",
   "name": "python",
   "nbconvert_exporter": "python",
   "pygments_lexer": "ipython3",
   "version": "3.12.3"
  }
 },
 "nbformat": 4,
 "nbformat_minor": 2
}
